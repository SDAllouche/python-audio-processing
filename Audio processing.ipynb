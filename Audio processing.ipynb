{
 "cells": [
  {
   "cell_type": "code",
   "execution_count": null,
   "id": "4028a175",
   "metadata": {},
   "outputs": [],
   "source": [
    "import wave\n",
    "import numpy\n",
    "import matplotlib.pyplot as plt \n",
    "import pydub\n",
    "from playsound import playsound\n",
    "from pydub import AudioSegment\n",
    "from IPython.display import Audio\n",
    "import sounddevice as sd\n",
    "import time\n",
    "import os\n",
    "from tkinter import filedialog\n",
    "from tkinter import *\n",
    "import soundfile as sf\n",
    "from pydub.utils import which , mediainfo\n",
    "import ffmpeg"
   ]
  },
  {
   "cell_type": "markdown",
   "id": "862b735c",
   "metadata": {},
   "source": [
    "# <font color=\"black\"><u>Exercice 1</u> :</font>"
   ]
  },
  {
   "cell_type": "code",
   "execution_count": null,
   "id": "78c7aa34",
   "metadata": {},
   "outputs": [],
   "source": [
    "#Q1 : Load an audio file\n",
    "\n",
    "def open_file ():\n",
    "    window = Tk()\n",
    "    window.withdraw()\n",
    "    file = filedialog.askopenfilename()\n",
    "    return file"
   ]
  },
  {
   "cell_type": "code",
   "execution_count": null,
   "id": "0176801e",
   "metadata": {},
   "outputs": [],
   "source": [
    "#Q2 : Extract parameters (tracks, channel...)\n",
    "\n",
    "def get_para(audio):\n",
    "    (nc,sw,fr,nfr,ct,cn)=audio.getparams()\n",
    "    return (nc,sw,fr,nfr,ct,cn)\n",
    "\n",
    "def channels (nc):\n",
    "    if(nc==1):\n",
    "        print(\"Mono\")\n",
    "    elif(nc==2):\n",
    "        print(\"Streo\")"
   ]
  },
  {
   "cell_type": "code",
   "execution_count": null,
   "id": "5494e162",
   "metadata": {},
   "outputs": [],
   "source": [
    "aud=wave.open(open_file())\n",
    "(nc,sw,fr,nfr,ct,cn)=get_para(aud)\n",
    "print(nc,sw,fr,nfr,ct,cn)"
   ]
  },
  {
   "cell_type": "code",
   "execution_count": null,
   "id": "fad86c07",
   "metadata": {},
   "outputs": [],
   "source": [
    "channels(nc)"
   ]
  },
  {
   "cell_type": "code",
   "execution_count": null,
   "id": "40eac1c1",
   "metadata": {},
   "outputs": [],
   "source": [
    "#Q3: Extract each audio track in a vector\n",
    "\n",
    "def ext(audio):\n",
    "    data= audio.readframes(-1)\n",
    "    data_hex= numpy.frombuffer(data,dtype=type(audio.getsampwidth()))\n",
    "    return data_hex\n",
    "\n",
    "def split(data_hex):\n",
    "    vect1=[data_hex[i] for i in range(len(data_hex)) if(i%2==0)]\n",
    "    vect2=[data_hex[i] for i in range(len(data_hex)) if(i%2!=0)]\n",
    "    vect=[vect1,vect2]\n",
    "    return vect"
   ]
  },
  {
   "cell_type": "code",
   "execution_count": null,
   "id": "7a665b45",
   "metadata": {},
   "outputs": [],
   "source": [
    "data_hex=ext(aud)\n",
    "print(data_hex)\n",
    "vect1,vect2=split(data_hex)\n",
    "print(vect1,vect2)"
   ]
  },
  {
   "cell_type": "code",
   "execution_count": null,
   "id": "1c7007f8",
   "metadata": {},
   "outputs": [],
   "source": [
    "#Q4 : Graphical representation\n",
    "\n",
    "def trace_1(vect,nc):\n",
    "    if nc==1:\n",
    "        plt.figure(figsize=(20,15))\n",
    "        plt.plot(vect)\n",
    "        plt.savefig(\"plot1.png\",bbox_inches =\"tight\")\n",
    "    else:\n",
    "        for i in range(1,nc+1):\n",
    "            plt.figure(figsize=(20,15))\n",
    "            plt.subplot(3,1,i)\n",
    "            plt.plot(vect[i-1])\n",
    "            name=\"plot\"+str(i+1)+\".png\"\n",
    "            plt.savefig(name,bbox_inches =\"tight\")"
   ]
  },
  {
   "cell_type": "code",
   "execution_count": null,
   "id": "7301d8c6",
   "metadata": {},
   "outputs": [],
   "source": [
    "vect=[vect1,vect2]\n",
    "trace_1(vect,2)"
   ]
  },
  {
   "cell_type": "code",
   "execution_count": null,
   "id": "cb15386e",
   "metadata": {},
   "outputs": [],
   "source": [
    "#Q5 : Extract a part of a track\n",
    "\n",
    "def partie(k1,k2,vect):\n",
    "    return vect[k1:k2]"
   ]
  },
  {
   "cell_type": "code",
   "execution_count": null,
   "id": "fb82f9a9",
   "metadata": {},
   "outputs": [],
   "source": [
    "partie(1000,2000,vect1)"
   ]
  },
  {
   "cell_type": "code",
   "execution_count": null,
   "id": "417d6cdd",
   "metadata": {},
   "outputs": [],
   "source": [
    "#Q6 : Represent the extracted graphically as a function of the sampling period\n",
    "\n",
    "def trace_2(ext_vect):\n",
    "    #the sampling period\n",
    "    temps= 1/fr\n",
    "    t=[i*temps for i in range(0,len(vect2))]\n",
    "    plt.plot(t,vect2)"
   ]
  },
  {
   "cell_type": "code",
   "execution_count": null,
   "id": "29024ced",
   "metadata": {},
   "outputs": [],
   "source": [
    "trace_2(partie(1000,2000,vect1))"
   ]
  },
  {
   "cell_type": "code",
   "execution_count": null,
   "id": "b28fecad",
   "metadata": {},
   "outputs": [],
   "source": [
    "#Q7 : Listen to the signals\n",
    "\n",
    "def listen(vect1,vect2,fr):\n",
    "    sd.play(vect1,fr/2)\n",
    "    time.sleep(2)\n",
    "    sd.play(vect2,fr/2)"
   ]
  },
  {
   "cell_type": "code",
   "execution_count": null,
   "id": "655c5d44",
   "metadata": {},
   "outputs": [],
   "source": [
    "listen(vect1,vect2,fr)"
   ]
  },
  {
   "cell_type": "code",
   "execution_count": null,
   "id": "1441c593",
   "metadata": {},
   "outputs": [],
   "source": [
    "#Q8 : Generate .wav files for each part\n",
    "\n",
    "def save(vect,nc,sw,fr,nfr,ct,cn):\n",
    "    if nc==1:\n",
    "        audio=wave.open(\"extrait.wav\",\"w\")\n",
    "        audio.setparams(nc,sw,fr,nfr,ct,cn)\n",
    "        audio.writeframes(bytes(numpy.array(vect)))\n",
    "    else :    \n",
    "        (data,fr)=sf.read(open_file())\n",
    "        data_r=[[0,0] for i in range(len(data))]\n",
    "        data_l=[[0,0] for i in range(len(data))]\n",
    "        for i in range(len(data)):\n",
    "            data_r[i][0]=0\n",
    "            data_r[i][1]=data[i][1]\n",
    "            data_l[i][0]=data[i][0]\n",
    "            data_l[i][1]=0\n",
    "        sf.write(\"extrait1.wav\",data_r,fr,\"PCM_16\")\n",
    "        sf.write(\"extrait2.wav\",data_l,fr,\"PCM_16\")"
   ]
  },
  {
   "cell_type": "markdown",
   "id": "b32ec4cb",
   "metadata": {},
   "source": [
    "# <font color=\"black\"><u>Exercice 2</u> :</font>"
   ]
  },
  {
   "cell_type": "code",
   "execution_count": null,
   "id": "49fe4867",
   "metadata": {},
   "outputs": [],
   "source": [
    "#Q1 : Get file size\n",
    "\n",
    "#we can use os lib :os.path.getsize(open_file())/1024\n",
    "\n",
    "def size(nc,fr,nfr,sw):\n",
    "    t=float(nfr/fr)\n",
    "    taille=(nc*fr*t*sw)/1024\n",
    "    return taille"
   ]
  },
  {
   "cell_type": "code",
   "execution_count": null,
   "id": "ab91ecb9",
   "metadata": {},
   "outputs": [],
   "source": [
    "print(size(nc,fr,nfr,sw),\"ko\")"
   ]
  },
  {
   "cell_type": "code",
   "execution_count": null,
   "id": "0d208426",
   "metadata": {},
   "outputs": [],
   "source": [
    "#Q2 : Increasing/decreasing the pitch of the sound \n",
    "\n",
    "def vol(w,db):                          # w est audio de type Audiosegment et db est une valeur (-\\+ )\n",
    "    w=w+db\n",
    "    w.export(\"file.wav\", \"wav\")"
   ]
  },
  {
   "cell_type": "code",
   "execution_count": null,
   "id": "e5a5d667",
   "metadata": {},
   "outputs": [],
   "source": [
    "#Q3_A : Subsample a signal at different frequencies\n",
    "\n",
    "def sous_ech(name_wav,f):\n",
    "    aud1=wave.open(open_file())\n",
    "    (nc,sw,fr,nfr,ct,cn)=get_para(aud1)\n",
    "    data_hex1=ext(aud1)\n",
    "    audio1=wave.open(name_wav,\"w\")\n",
    "    audio1.setparams((nc,sw,fr//f,nfr,ct,cn))\n",
    "    audio1.writeframes(bytes(numpy.array(data_hex1[0::f])))\n",
    "    audio1.close()"
   ]
  },
  {
   "cell_type": "code",
   "execution_count": null,
   "id": "b163e898",
   "metadata": {},
   "outputs": [],
   "source": [
    "sous_ech(\"file.wav\",2)"
   ]
  },
  {
   "cell_type": "code",
   "execution_count": null,
   "id": "480a043c",
   "metadata": {},
   "outputs": [],
   "source": [
    "#Q3_B : Trace the signal and listen to it\n",
    "\n",
    "def compare_trace():\n",
    "    org=wave.open(open_file())\n",
    "    data_org= org.readframes(-1)\n",
    "    data_hex_org= numpy.frombuffer(data_org,numpy.int16)\n",
    "    cnvrt=wave.open(open_file())\n",
    "    data_cnvrt= cnvrt.readframes(-1)\n",
    "    data_hex_cnvrt= numpy.frombuffer(data_cnvrt,numpy.int16)\n",
    "    vect=[data_hex_org,data_hex_cnvrt]\n",
    "    trace_1(vect,2)"
   ]
  },
  {
   "cell_type": "code",
   "execution_count": null,
   "id": "7579f237",
   "metadata": {},
   "outputs": [],
   "source": [
    "compare_trace()"
   ]
  },
  {
   "cell_type": "code",
   "execution_count": null,
   "id": "8f04811b",
   "metadata": {},
   "outputs": [],
   "source": [
    "#Q3_C : Get the max freq and calculate the new size\n",
    "\n",
    "def fre_max():\n",
    "    w=wave.open(open_file())\n",
    "    (nc1,sw1,fr1,nfr1,ct1,cn1)=get_para(w)\n",
    "    print(\"Fe Max : \",fre//2)\n",
    "    print(size(nc1,fr1,nfr1,sw1),\"ko\")"
   ]
  },
  {
   "cell_type": "code",
   "execution_count": null,
   "id": "842796c0",
   "metadata": {},
   "outputs": [],
   "source": [
    "#Q4_A : Convert audio files to different bits (8,24...)\n",
    "\n",
    "#You can use the soundfile library function to find the subtypes of a formatCalculate the compression ratio:sf.available_subtypes('ogg')\n",
    "\n",
    "def convert(name_wave,typ):\n",
    "    (data,fr)=sf.read(open_file())\n",
    "    sf.write(name_wave,data,fr,typ)"
   ]
  },
  {
   "cell_type": "code",
   "execution_count": null,
   "id": "7958a5d8",
   "metadata": {},
   "outputs": [],
   "source": [
    "convert(\"file.wav\",\"PCM_24\")"
   ]
  },
  {
   "cell_type": "code",
   "execution_count": null,
   "id": "1de039cf",
   "metadata": {},
   "outputs": [],
   "source": [
    "#Q4_B : #Compare the original with re-quantized\n",
    "\n",
    "def compare_listen(n):                  # n est le nombre d'audio convertir\n",
    "    for i in range(n):\n",
    "        playsound(open_file())"
   ]
  },
  {
   "cell_type": "code",
   "execution_count": null,
   "id": "1e3b6295",
   "metadata": {},
   "outputs": [],
   "source": [
    "#Q4_C : Compare the max/min values between the two\n",
    "\n",
    "def max_min():\n",
    "    audio1=wave.open(open_file())\n",
    "    a1= audio1.readframes(-1)\n",
    "    b1= numpy.frombuffer(a1,numpy.int16)\n",
    "    audio2=wave.open(open_file())\n",
    "    a2= audio2.readframes(-1)\n",
    "    b2= numpy.frombuffer(a2,numpy.int8)\n",
    "    print(\"Valeur min d'original : \",min(b1),\"Valeur min codable : \",min(b2))\n",
    "    print(\"Valeur max d'original : \".max(b1),\"Valeur max codable : \",max(b2))"
   ]
  },
  {
   "cell_type": "code",
   "execution_count": null,
   "id": "dfc58943",
   "metadata": {},
   "outputs": [],
   "source": [
    "#Q4_D : Calculate the compression ratio\n",
    "\n",
    "def facteur(n):\n",
    "    liste=[]                                             # n est le nombre d'audio convertir\n",
    "    for i in range(n):\n",
    "        t1=os.path.getsize(open_file())/1024\n",
    "        t2=os.path.getsize(open_file())/1024\n",
    "        liste.append(t1/t2)\n",
    "    return liste"
   ]
  },
  {
   "cell_type": "markdown",
   "id": "39c6e159",
   "metadata": {},
   "source": [
    "# <font color=\"black\"><u>Exercice 3</u> :</font>"
   ]
  },
  {
   "cell_type": "code",
   "execution_count": null,
   "id": "4ed02fc5",
   "metadata": {},
   "outputs": [],
   "source": [
    "#Q_1_2_3_4 : Compress audio file \n",
    "\n",
    "def compress(ext,formate):\n",
    "    AudioSegment.converter = which(\"ffmpeg\")\n",
    "    file_path=open_file()\n",
    "    file=os.path.splitext(file_path)[0]+ ext\n",
    "    aud1= AudioSegment.from_file(file_path)\n",
    "    aud1.export(file,format=formate)"
   ]
  },
  {
   "cell_type": "code",
   "execution_count": null,
   "id": "01c4a31d",
   "metadata": {},
   "outputs": [],
   "source": [
    "compress(\".mp3\",\"mp3\")"
   ]
  },
  {
   "cell_type": "code",
   "execution_count": null,
   "id": "1f0da421",
   "metadata": {},
   "outputs": [],
   "source": [
    "#Q5 : Calculate the compression ratio\n",
    "\n",
    "def taux():\n",
    "    t1=os.path.getsize(open_file())/1024\n",
    "    t2=os.path.getsize(open_file())/1024\n",
    "    print(t1/t2)"
   ]
  },
  {
   "cell_type": "code",
   "execution_count": null,
   "id": "046a6574",
   "metadata": {},
   "outputs": [],
   "source": []
  }
 ],
 "metadata": {
  "kernelspec": {
   "display_name": "Python 3 (ipykernel)",
   "language": "python",
   "name": "python3"
  },
  "language_info": {
   "codemirror_mode": {
    "name": "ipython",
    "version": 3
   },
   "file_extension": ".py",
   "mimetype": "text/x-python",
   "name": "python",
   "nbconvert_exporter": "python",
   "pygments_lexer": "ipython3",
   "version": "3.9.7"
  }
 },
 "nbformat": 4,
 "nbformat_minor": 5
}
